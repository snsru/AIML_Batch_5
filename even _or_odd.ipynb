{
 "cells": [
  {
   "cell_type": "code",
   "execution_count": 2,
   "metadata": {},
   "outputs": [
    {
     "name": "stdout",
     "output_type": "stream",
     "text": [
      "The sum of even numbers from 2 to 8 is: 20\n"
     ]
    }
   ],
   "source": [
    "n = 8\n",
    "sum_of_evens = 0\n",
    "\n",
    "for i in range(2, n+1, 2):\n",
    "    sum_of_evens += i\n",
    "\n",
    "print(f\"The sum of even numbers from 2 to {n} is: {sum_of_evens}\")"
   ]
  }
 ],
 "metadata": {
  "kernelspec": {
   "display_name": "Python 3",
   "language": "python",
   "name": "python3"
  },
  "language_info": {
   "codemirror_mode": {
    "name": "ipython",
    "version": 3
   },
   "file_extension": ".py",
   "mimetype": "text/x-python",
   "name": "python",
   "nbconvert_exporter": "python",
   "pygments_lexer": "ipython3",
   "version": "3.10.13"
  }
 },
 "nbformat": 4,
 "nbformat_minor": 2
}
