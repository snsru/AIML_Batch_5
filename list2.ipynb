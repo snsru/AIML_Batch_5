{
 "cells": [
  {
   "cell_type": "code",
   "execution_count": 2,
   "metadata": {},
   "outputs": [
    {
     "name": "stdout",
     "output_type": "stream",
     "text": [
      "Fruits : ['apple' 'banana' 'cherry' 'date' 'elderberry']\n"
     ]
    }
   ],
   "source": [
    "import numpy as np\n",
    "slist = [\"apple\", \"banana\", \"cherry\", \"date\", \"elderberry\"]\n",
    "n = np.array(slist)\n",
    "print(\"Fruits :\", n)\n"
   ]
  }
 ],
 "metadata": {
  "kernelspec": {
   "display_name": "Python 3",
   "language": "python",
   "name": "python3"
  },
  "language_info": {
   "codemirror_mode": {
    "name": "ipython",
    "version": 3
   },
   "file_extension": ".py",
   "mimetype": "text/x-python",
   "name": "python",
   "nbconvert_exporter": "python",
   "pygments_lexer": "ipython3",
   "version": "3.10.13"
  }
 },
 "nbformat": 4,
 "nbformat_minor": 2
}
